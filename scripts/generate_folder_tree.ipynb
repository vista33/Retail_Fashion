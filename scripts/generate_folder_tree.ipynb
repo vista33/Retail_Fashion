{
 "cells": [
  {
   "cell_type": "code",
   "execution_count": 7,
   "id": "7cf914eb",
   "metadata": {},
   "outputs": [],
   "source": [
    "#1. import library\n",
    "import os"
   ]
  },
  {
   "cell_type": "code",
   "execution_count": 9,
   "id": "d4c6abe9",
   "metadata": {},
   "outputs": [
    {
     "name": "stdout",
     "output_type": "stream",
     "text": [
      "Tree saved to RETAIL_FASHION_tree.txt\n"
     ]
    }
   ],
   "source": [
    "\n",
    "\n",
    "def print_tree(path, prefix=\"\", file=None):  # <- add file=None\n",
    "    items = os.listdir(path)\n",
    "    items.sort()\n",
    "    for i, item in enumerate(items):\n",
    "        full_path = os.path.join(path, item)\n",
    "        connector = \"└── \" if i == len(items)-1 else \"├── \"\n",
    "        line = prefix + connector + item + \"\\n\"\n",
    "        if file:           # write to file if provided\n",
    "            file.write(line)\n",
    "        else:               # otherwise, print to console\n",
    "            print(line, end=\"\")\n",
    "        if os.path.isdir(full_path):\n",
    "            extension = \"    \" if i == len(items)-1 else \"│   \"\n",
    "            print_tree(full_path, prefix + extension, file=file)  # pass file along\n",
    "\n",
    "# Save tree to a text file\n",
    "output_file = \"RETAIL_FASHION_tree.txt\"\n",
    "with open(output_file, \"w\", encoding=\"utf-8\") as f:\n",
    "    print_tree(r\"C:\\Users\\user\\Documents\\Portfolio_Vista\\RETAIL_FASHION\", file=f)\n",
    "\n",
    "print(f\"Tree saved to {output_file}\")\n",
    "\n"
   ]
  }
 ],
 "metadata": {
  "kernelspec": {
   "display_name": "retail_env (3.13.3)",
   "language": "python",
   "name": "python3"
  },
  "language_info": {
   "codemirror_mode": {
    "name": "ipython",
    "version": 3
   },
   "file_extension": ".py",
   "mimetype": "text/x-python",
   "name": "python",
   "nbconvert_exporter": "python",
   "pygments_lexer": "ipython3",
   "version": "3.13.3"
  }
 },
 "nbformat": 4,
 "nbformat_minor": 5
}
