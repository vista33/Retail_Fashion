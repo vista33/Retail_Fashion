{
 "cells": [
  {
   "cell_type": "code",
   "execution_count": 20,
   "id": "52924448",
   "metadata": {},
   "outputs": [],
   "source": [
    "#1. import libraries\n",
    "import pandas as pd\n",
    "from sqlalchemy import create_engine, text\n",
    "import json\n",
    "import psycopg2\n"
   ]
  },
  {
   "cell_type": "code",
   "execution_count": 21,
   "id": "76bb67e2",
   "metadata": {},
   "outputs": [
    {
     "name": "stdout",
     "output_type": "stream",
     "text": [
      "Succesful loaded the credential!\n"
     ]
    }
   ],
   "source": [
    "#2. Load the database configuration\n",
    "with open (\"db_config.json\",\"r\") as file:\n",
    "    config = json.load(file)\n",
    "\n",
    "username = config[\"username\"]\n",
    "password = config[\"password\"]\n",
    "host = config[\"host\"]\n",
    "port = config[\"port\"]\n",
    "database = config[\"database\"]\n",
    "\n",
    "print ('Succesful loaded the credential!')"
   ]
  },
  {
   "cell_type": "code",
   "execution_count": null,
   "id": "066c2d87",
   "metadata": {},
   "outputs": [
    {
     "name": "stdout",
     "output_type": "stream",
     "text": [
      "Connected to database shoes\n"
     ]
    }
   ],
   "source": [
    "#3. Connect to PostgreSQL\n",
    "engine = create_engine(f'postgresql://{username}:{password}@{host}:{port}/{database}')\n",
    "print (f'Connected to database {database}')"
   ]
  },
  {
   "cell_type": "code",
   "execution_count": 31,
   "id": "f1a306ee",
   "metadata": {},
   "outputs": [
    {
     "data": {
      "text/html": [
       "<div>\n",
       "<style scoped>\n",
       "    .dataframe tbody tr th:only-of-type {\n",
       "        vertical-align: middle;\n",
       "    }\n",
       "\n",
       "    .dataframe tbody tr th {\n",
       "        vertical-align: top;\n",
       "    }\n",
       "\n",
       "    .dataframe thead th {\n",
       "        text-align: right;\n",
       "    }\n",
       "</style>\n",
       "<table border=\"1\" class=\"dataframe\">\n",
       "  <thead>\n",
       "    <tr style=\"text-align: right;\">\n",
       "      <th></th>\n",
       "      <th>date</th>\n",
       "      <th>product_name</th>\n",
       "      <th>product_type</th>\n",
       "      <th>brand</th>\n",
       "      <th>gender</th>\n",
       "      <th>category</th>\n",
       "      <th>country</th>\n",
       "      <th>quantity</th>\n",
       "      <th>unit_price</th>\n",
       "      <th>amount</th>\n",
       "      <th>payment_mode</th>\n",
       "    </tr>\n",
       "  </thead>\n",
       "  <tbody>\n",
       "    <tr>\n",
       "      <th>0</th>\n",
       "      <td>2022-05-27</td>\n",
       "      <td>Fear of God Essentials Tee</td>\n",
       "      <td>T-shirt</td>\n",
       "      <td>Essentials</td>\n",
       "      <td>Unisex</td>\n",
       "      <td>Limited Edition</td>\n",
       "      <td>Japan</td>\n",
       "      <td>5</td>\n",
       "      <td>141.82</td>\n",
       "      <td>709.10</td>\n",
       "      <td>Card</td>\n",
       "    </tr>\n",
       "    <tr>\n",
       "      <th>1</th>\n",
       "      <td>2022-08-22</td>\n",
       "      <td>Yeezy Boost 350</td>\n",
       "      <td>Sneakers</td>\n",
       "      <td>Adidas</td>\n",
       "      <td>Unisex</td>\n",
       "      <td>Streetwear</td>\n",
       "      <td>USA</td>\n",
       "      <td>2</td>\n",
       "      <td>267.34</td>\n",
       "      <td>534.68</td>\n",
       "      <td>Cash on Delivery</td>\n",
       "    </tr>\n",
       "    <tr>\n",
       "      <th>2</th>\n",
       "      <td>2022-04-03</td>\n",
       "      <td>Nike Dunk Low</td>\n",
       "      <td>Sneakers</td>\n",
       "      <td>Nike</td>\n",
       "      <td>Women</td>\n",
       "      <td>Limited Edition</td>\n",
       "      <td>Germany</td>\n",
       "      <td>1</td>\n",
       "      <td>292.00</td>\n",
       "      <td>292.00</td>\n",
       "      <td>Cash on Delivery</td>\n",
       "    </tr>\n",
       "    <tr>\n",
       "      <th>3</th>\n",
       "      <td>2022-07-13</td>\n",
       "      <td>Nike Tech Fleece</td>\n",
       "      <td>Hoodie</td>\n",
       "      <td>Nike</td>\n",
       "      <td>Men</td>\n",
       "      <td>Limited Edition</td>\n",
       "      <td>USA</td>\n",
       "      <td>4</td>\n",
       "      <td>245.44</td>\n",
       "      <td>981.76</td>\n",
       "      <td>Cash on Delivery</td>\n",
       "    </tr>\n",
       "    <tr>\n",
       "      <th>4</th>\n",
       "      <td>2022-08-25</td>\n",
       "      <td>Jordan 1 High</td>\n",
       "      <td>Sneakers</td>\n",
       "      <td>Nike</td>\n",
       "      <td>Women</td>\n",
       "      <td>Casual</td>\n",
       "      <td>Australia</td>\n",
       "      <td>2</td>\n",
       "      <td>184.51</td>\n",
       "      <td>369.02</td>\n",
       "      <td>Cash on Delivery</td>\n",
       "    </tr>\n",
       "  </tbody>\n",
       "</table>\n",
       "</div>"
      ],
      "text/plain": [
       "         date                product_name product_type       brand  gender  \\\n",
       "0  2022-05-27  Fear of God Essentials Tee      T-shirt  Essentials  Unisex   \n",
       "1  2022-08-22             Yeezy Boost 350     Sneakers      Adidas  Unisex   \n",
       "2  2022-04-03               Nike Dunk Low     Sneakers        Nike   Women   \n",
       "3  2022-07-13            Nike Tech Fleece       Hoodie        Nike     Men   \n",
       "4  2022-08-25               Jordan 1 High     Sneakers        Nike   Women   \n",
       "\n",
       "          category    country  quantity  unit_price  amount      payment_mode  \n",
       "0  Limited Edition      Japan         5      141.82  709.10              Card  \n",
       "1       Streetwear        USA         2      267.34  534.68  Cash on Delivery  \n",
       "2  Limited Edition    Germany         1      292.00  292.00  Cash on Delivery  \n",
       "3  Limited Edition        USA         4      245.44  981.76  Cash on Delivery  \n",
       "4           Casual  Australia         2      184.51  369.02  Cash on Delivery  "
      ]
     },
     "metadata": {},
     "output_type": "display_data"
    },
    {
     "name": "stdout",
     "output_type": "stream",
     "text": [
      "date            datetime64[ns]\n",
      "product_name            object\n",
      "product_type            object\n",
      "brand                   object\n",
      "gender                  object\n",
      "category                object\n",
      "country                 object\n",
      "quantity                 int64\n",
      "unit_price             float64\n",
      "amount                 float64\n",
      "payment_mode            object\n",
      "dtype: object\n"
     ]
    }
   ],
   "source": [
    "#4. Load CSV file into DataFrame\n",
    "csv_path = 'cleaned_shoes.csv'\n",
    "df = pd.read_csv(csv_path)\n",
    "display(df.head())\n",
    "df['date'] = pd.to_datetime(df['date'])\n",
    "print(df.dtypes)"
   ]
  },
  {
   "cell_type": "code",
   "execution_count": 32,
   "id": "17f34fd1",
   "metadata": {},
   "outputs": [
    {
     "name": "stdout",
     "output_type": "stream",
     "text": [
      "CSV data uploaded to table sales_shoes!\n"
     ]
    }
   ],
   "source": [
    "#5. Upload CSV to postgreSQL\n",
    "table_name = \"sales_shoes\"\n",
    "df.to_sql(table_name, con=engine, index=False, if_exists=\"replace\")\n",
    "print(f\"CSV data uploaded to table {table_name}!\")\n"
   ]
  },
  {
   "cell_type": "code",
   "execution_count": 33,
   "id": "32b289eb",
   "metadata": {},
   "outputs": [
    {
     "name": "stdout",
     "output_type": "stream",
     "text": [
      "Table 'sales_shoes' now contains 353 records.\n"
     ]
    }
   ],
   "source": [
    "#6. Verify upload\n",
    "with engine.connect() as conn:\n",
    "    count = conn.execute(text(f\"SELECT COUNT(*) FROM {table_name}\")).scalar()\n",
    "    print(f\"Table '{table_name}' now contains {count} records.\")"
   ]
  }
 ],
 "metadata": {
  "kernelspec": {
   "display_name": "shoes_env (3.8.8)",
   "language": "python",
   "name": "python3"
  },
  "language_info": {
   "codemirror_mode": {
    "name": "ipython",
    "version": 3
   },
   "file_extension": ".py",
   "mimetype": "text/x-python",
   "name": "python",
   "nbconvert_exporter": "python",
   "pygments_lexer": "ipython3",
   "version": "3.13.3"
  }
 },
 "nbformat": 4,
 "nbformat_minor": 5
}
